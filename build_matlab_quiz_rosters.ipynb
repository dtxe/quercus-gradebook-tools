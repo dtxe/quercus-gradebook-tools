{
 "cells": [
  {
   "cell_type": "markdown",
   "metadata": {},
   "source": [
    "## Generate MATLAB Grader rosters for the quiz\n",
    "Simeon Wong"
   ]
  },
  {
   "cell_type": "code",
   "execution_count": null,
   "metadata": {},
   "outputs": [],
   "source": [
    "# imports\n",
    "import pandas as pd\n",
    "import time"
   ]
  },
  {
   "cell_type": "code",
   "execution_count": null,
   "metadata": {},
   "outputs": [],
   "source": [
    "# import and merge data\n",
    "grades = pd.read_csv('Grades.csv')\n",
    "roster = pd.read_csv('Roster.csv')\n",
    "\n",
    "grades = grades.merge(roster[['UTORid', 'Email']], left_on='SIS User ID', right_on='UTORid', how='left')\n",
    "grades['Integration ID'] = grades['Integration ID'].apply(lambda x: '{:.0f}'.format(x))"
   ]
  },
  {
   "cell_type": "code",
   "execution_count": null,
   "metadata": {},
   "outputs": [],
   "source": [
    "# subset the information we need later on\n",
    "class_list = grades[['Email', 'Section', 'UTORid', 'Integration ID']].iloc[2:,:]\n",
    "class_list.rename(columns={'Integration ID': 'StudentNum'}, inplace=True)\n",
    "\n",
    "# parse practicals section\n",
    "class_list['Practical'] = class_list['Section'].str.extract(r'F-(PRA[0-9]{4})-2022')\n",
    "class_list.drop('Section', axis=1, inplace=True)\n",
    "\n",
    "# save a copy for attendance\n",
    "attendance_list = class_list.copy()\n",
    "class_list"
   ]
  },
  {
   "cell_type": "code",
   "execution_count": null,
   "metadata": {},
   "outputs": [],
   "source": [
    "# lookup practical timing\n",
    "times = pd.read_csv('PracticalTiming.csv', sep='\\t')\n",
    "times['Section'] = times['Section'].str[:7]\n",
    "times['Day'] = times['Day'].str[:1]\n",
    "times['Time'] = times['Time'].apply(lambda x: time.strptime(x, '%I:%M %p').tm_hour)\n",
    "times['String'] = times.apply(lambda x: str(x['Day']) + '.' + str(x['Time']), axis=1)\n",
    "times"
   ]
  },
  {
   "cell_type": "code",
   "execution_count": null,
   "metadata": {},
   "outputs": [],
   "source": [
    "# Merge practical timing with class list\n",
    "class_list = class_list.merge(times[['Section', 'String']], left_on='Practical', right_on='Section', how='left')\n",
    "class_list"
   ]
  },
  {
   "cell_type": "code",
   "execution_count": null,
   "metadata": {},
   "outputs": [],
   "source": [
    "# Generate a list of unique time slots\n",
    "time_list = class_list['String'].dropna().unique()\n",
    "time_list.sort()\n",
    "\n",
    "# Generate a list of students within each time slot\n",
    "with open('GraderInvites.txt', 'w') as f:\n",
    "    for tl in time_list:\n",
    "        f.writelines('\\n\\n------------------------\\nMAT188 2022F - QUIZ {}\\n\\n------------------------\\n'.format(tl))\n",
    "        subset = class_list[class_list['String'] == tl]['Email']\n",
    "        subset = subset.dropna()\n",
    "        f.write(', '.join(subset.tolist()))\n",
    "        f.write('\\n\\n')\n",
    "\n",
    "# Show the list of students without emails so we can look into it\n",
    "class_list.loc[class_list['Email'].isna(), :]"
   ]
  },
  {
   "cell_type": "code",
   "execution_count": null,
   "metadata": {},
   "outputs": [],
   "source": [
    "# Write attendance lists to file for each practical section for TAs to take quiz attendance\n",
    "sections = attendance_list['Practical'].dropna().unique()\n",
    "sections.sort()\n",
    "\n",
    "attendance_list['Present?'] = ''\n",
    "attendance_list['Time out'] = ''\n",
    "attendance_list['Comments'] = ''\n",
    "\n",
    "with pd.ExcelWriter('QuizAttendanceList.xlsx') as xlsw:\n",
    "    for s in sections:\n",
    "        subset = attendance_list[attendance_list['Practical'] == s]\n",
    "        subset.to_excel(xlsw, sheet_name=s, index=False)\n"
   ]
  }
 ],
 "metadata": {
  "kernelspec": {
   "display_name": "Python 3.8.13 ('p38')",
   "language": "python",
   "name": "python3"
  },
  "language_info": {
   "codemirror_mode": {
    "name": "ipython",
    "version": 3
   },
   "file_extension": ".py",
   "mimetype": "text/x-python",
   "name": "python",
   "nbconvert_exporter": "python",
   "pygments_lexer": "ipython3",
   "version": "3.8.13"
  },
  "orig_nbformat": 4,
  "vscode": {
   "interpreter": {
    "hash": "cc81f1d59f5ffa74497470a5b20db2d671d250498a5226b270b17521f8901cda"
   }
  }
 },
 "nbformat": 4,
 "nbformat_minor": 2
}
